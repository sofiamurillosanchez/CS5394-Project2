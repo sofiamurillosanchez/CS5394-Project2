{
 "cells": [
  {
   "cell_type": "markdown",
   "id": "245918b3-be3c-4d1f-9a58-7f2a88d01183",
   "metadata": {},
   "source": [
    "# Project 2\n",
    "### CS 5/7394 - Applied Machine Learning\n",
    "#### Sofia Murillo, Randolph Rankin\n",
    "\n",
    "- **Due** - March 11 @ 11:59 pm pushed to Github repo\n",
    "- **Teams** - You can do this project solo or in pairs.  Not 3, not 4 not 5... Max of 2. If a 5394 student pairs with a 7394 student, the pair needs to do the 7394 work. "
   ]
  },
  {
   "cell_type": "markdown",
   "id": "cae9b08f-7745-4dfb-8927-258f22423720",
   "metadata": {},
   "source": [
    "Below are 6 Kaggle Datasets.  You will choose 1 to work with for this project. \n",
    "\n",
    "- [Airfare Prediction Dataset](https://www.kaggle.com/zwartfreak/airline-fare-prediction)\n",
    "- [Chinese Rest Holiday Dataset](https://www.kaggle.com/holoong9291/chinese-rest-holiday-dataset-2020-to-2022)\n",
    "- [Jigsaw Toxic Comment Classification Challenge](https://www.kaggle.com/julian3833/jigsaw-toxic-comment-classification-challenge?select=train.csv)\n",
    "- [Latest Covid 19 Dataset Worldwide](https://www.kaggle.com/sandhyakrishnan02/latest-covid-19-dataset-worldwide)\n",
    "- [Trains](https://www.kaggle.com/vahidehdashti/machinelearningdatabase-trains?select=trains-original.data)\n",
    "- **[Football Data top 5 Leagues](https://www.kaggle.com/sanjeetsinghnaik/football-data-top-5-leagues)** *(Selected Dataset)*\n",
    "\n",
    "Merging disparate datasets is a staple of the data exploration process.  Therefore, for which ever data set above that you choose, you will need to independently find **an additional** dataset to merge with your selection.  The only requirement is that it add to the richness of the original dataset. Students in the 7000-level version of the class need to find two additional data sets to merge with the original selection. \n",
    "\n",
    "_Note_: If you want to start with a different data set, you need to get Fontenot's OK first.  "
   ]
  },
  {
   "cell_type": "markdown",
   "id": "126330db-b29f-46d9-b16e-7811612a9e73",
   "metadata": {},
   "source": [
    "### Your Tasks\n",
    "\n",
    "Below, there are cells that provide directions on what to do for the project.  \n",
    "\n",
    "You can insert as many cells between the ones below as you'd like, but please **Do NOT** change the cells already provided. "
   ]
  },
  {
   "cell_type": "markdown",
   "id": "0f2ca87f-07eb-4792-b76e-15f2f01d1408",
   "metadata": {},
   "source": [
    "### Part 1 - Getting Started\n",
    "\n",
    "- Import libraries\n",
    "- Load original Data (which ever one you chose from the provided list) into a data frame. \n",
    "- Load your additional data set(s) into a data frame. \n",
    "- In a markdown cell, provide a brief description of your the data sets you've chosen to work with.  \n",
    "- Develop a list of 3 - 4 questions that you hope to be able to answer after the exploration of the data and write them in this section. "
   ]
  },
  {
   "cell_type": "code",
   "execution_count": 31,
   "id": "ef9b70f5-346e-47af-9d38-043de6663c0c",
   "metadata": {},
   "outputs": [],
   "source": [
    "# \"Import libraries\"\n",
    "\n",
    "import pandas as pd\n",
    "import numpy as np\n",
    "import math\n",
    "import seaborn as sns\n",
    "import matplotlib.pyplot as plt\n",
    "import matplotlib.style as style\n",
    "\n",
    "import warnings\n",
    "warnings.filterwarnings('ignore')\n",
    "\n",
    "style.use('seaborn')"
   ]
  },
  {
   "cell_type": "code",
   "execution_count": 2,
   "id": "ceb5ae68",
   "metadata": {},
   "outputs": [],
   "source": [
    "# \"Load original Data (which ever one you chose from the provided list) into a data frame.\"\n",
    "original_data = pd.read_csv('data/combined_data.csv')\n",
    "\n",
    "# \"Load your additional data set(s) into a data frame.\"\n",
    "additional_data = pd.read_excel('data/all-leaguetables.xlsx') "
   ]
  },
  {
   "cell_type": "markdown",
   "id": "b807bc31",
   "metadata": {},
   "source": [
    "#### Data Explanation"
   ]
  },
  {
   "cell_type": "markdown",
   "id": "b0f28bb8",
   "metadata": {},
   "source": [
    "**Primary Dataset**\n",
    "\n",
    "Our primary dataset consists of match-level data for 5 top soccer (football) leagues. Data for each match is related to scores and specific game statistics relevant to each match such as ball possession and penalties. This dataset provides insight to overall match statistics."
   ]
  },
  {
   "cell_type": "code",
   "execution_count": 3,
   "id": "bd2eccf8",
   "metadata": {},
   "outputs": [
    {
     "data": {
      "text/plain": "   Unnamed: 0       Home Team   Away Team Score Half Time Score  \\\n0           0         MAN UTD     SWANSEA   1-2             0-1   \n1           1       WEST BROM  SUNDERLAND   2-2             1-1   \n2           2  LEICESTER CITY     EVERTON   2-2             1-2   \n3           3        WEST HAM   TOTTENHAM   0-1             0-0   \n4           4             QPR   HULL CITY   0-1             0-0   \n\n   Match Excitement  Home Team Rating  Away Team Rating  \\\n0               5.9               5.6               7.6   \n1               7.3               6.5               7.4   \n2               7.0               6.5               6.3   \n3               4.8               5.9               6.4   \n4               3.8               5.7               6.6   \n\n   Home Team Possession %  Away Team Possession %  ...  Away Team Fouls  \\\n0                      60                      40  ...             20.0   \n1                      58                      42  ...              9.0   \n2                      37                      63  ...             10.0   \n3                      47                      53  ...             10.0   \n4                      51                      49  ...             10.0   \n\n   Away Team Yellow Cards  Away Team Second Yellow Cards  Away Team Red Cards  \\\n0                     4.0                            0.0                  0.0   \n1                     1.0                            0.0                  0.0   \n2                     1.0                            0.0                  0.0   \n3                     0.0                            0.0                  1.0   \n4                     2.0                            0.0                  0.0   \n\n   Home Team Goals Scored  Away Team Goals Scored  Home Team Goals Conceeded  \\\n0                       1                       2                          2   \n1                       2                       2                          2   \n2                       2                       2                          2   \n3                       0                       1                          1   \n4                       0                       1                          1   \n\n   Away Team Goals Conceeded  year   league  \n0                          1  2014  english  \n1                          2  2014  english  \n2                          2  2014  english  \n3                          0  2014  english  \n4                          0  2014  english  \n\n[5 rows x 42 columns]",
      "text/html": "<div>\n<style scoped>\n    .dataframe tbody tr th:only-of-type {\n        vertical-align: middle;\n    }\n\n    .dataframe tbody tr th {\n        vertical-align: top;\n    }\n\n    .dataframe thead th {\n        text-align: right;\n    }\n</style>\n<table border=\"1\" class=\"dataframe\">\n  <thead>\n    <tr style=\"text-align: right;\">\n      <th></th>\n      <th>Unnamed: 0</th>\n      <th>Home Team</th>\n      <th>Away Team</th>\n      <th>Score</th>\n      <th>Half Time Score</th>\n      <th>Match Excitement</th>\n      <th>Home Team Rating</th>\n      <th>Away Team Rating</th>\n      <th>Home Team Possession %</th>\n      <th>Away Team Possession %</th>\n      <th>...</th>\n      <th>Away Team Fouls</th>\n      <th>Away Team Yellow Cards</th>\n      <th>Away Team Second Yellow Cards</th>\n      <th>Away Team Red Cards</th>\n      <th>Home Team Goals Scored</th>\n      <th>Away Team Goals Scored</th>\n      <th>Home Team Goals Conceeded</th>\n      <th>Away Team Goals Conceeded</th>\n      <th>year</th>\n      <th>league</th>\n    </tr>\n  </thead>\n  <tbody>\n    <tr>\n      <th>0</th>\n      <td>0</td>\n      <td>MAN UTD</td>\n      <td>SWANSEA</td>\n      <td>1-2</td>\n      <td>0-1</td>\n      <td>5.9</td>\n      <td>5.6</td>\n      <td>7.6</td>\n      <td>60</td>\n      <td>40</td>\n      <td>...</td>\n      <td>20.0</td>\n      <td>4.0</td>\n      <td>0.0</td>\n      <td>0.0</td>\n      <td>1</td>\n      <td>2</td>\n      <td>2</td>\n      <td>1</td>\n      <td>2014</td>\n      <td>english</td>\n    </tr>\n    <tr>\n      <th>1</th>\n      <td>1</td>\n      <td>WEST BROM</td>\n      <td>SUNDERLAND</td>\n      <td>2-2</td>\n      <td>1-1</td>\n      <td>7.3</td>\n      <td>6.5</td>\n      <td>7.4</td>\n      <td>58</td>\n      <td>42</td>\n      <td>...</td>\n      <td>9.0</td>\n      <td>1.0</td>\n      <td>0.0</td>\n      <td>0.0</td>\n      <td>2</td>\n      <td>2</td>\n      <td>2</td>\n      <td>2</td>\n      <td>2014</td>\n      <td>english</td>\n    </tr>\n    <tr>\n      <th>2</th>\n      <td>2</td>\n      <td>LEICESTER CITY</td>\n      <td>EVERTON</td>\n      <td>2-2</td>\n      <td>1-2</td>\n      <td>7.0</td>\n      <td>6.5</td>\n      <td>6.3</td>\n      <td>37</td>\n      <td>63</td>\n      <td>...</td>\n      <td>10.0</td>\n      <td>1.0</td>\n      <td>0.0</td>\n      <td>0.0</td>\n      <td>2</td>\n      <td>2</td>\n      <td>2</td>\n      <td>2</td>\n      <td>2014</td>\n      <td>english</td>\n    </tr>\n    <tr>\n      <th>3</th>\n      <td>3</td>\n      <td>WEST HAM</td>\n      <td>TOTTENHAM</td>\n      <td>0-1</td>\n      <td>0-0</td>\n      <td>4.8</td>\n      <td>5.9</td>\n      <td>6.4</td>\n      <td>47</td>\n      <td>53</td>\n      <td>...</td>\n      <td>10.0</td>\n      <td>0.0</td>\n      <td>0.0</td>\n      <td>1.0</td>\n      <td>0</td>\n      <td>1</td>\n      <td>1</td>\n      <td>0</td>\n      <td>2014</td>\n      <td>english</td>\n    </tr>\n    <tr>\n      <th>4</th>\n      <td>4</td>\n      <td>QPR</td>\n      <td>HULL CITY</td>\n      <td>0-1</td>\n      <td>0-0</td>\n      <td>3.8</td>\n      <td>5.7</td>\n      <td>6.6</td>\n      <td>51</td>\n      <td>49</td>\n      <td>...</td>\n      <td>10.0</td>\n      <td>2.0</td>\n      <td>0.0</td>\n      <td>0.0</td>\n      <td>0</td>\n      <td>1</td>\n      <td>1</td>\n      <td>0</td>\n      <td>2014</td>\n      <td>english</td>\n    </tr>\n  </tbody>\n</table>\n<p>5 rows × 42 columns</p>\n</div>"
     },
     "execution_count": 3,
     "metadata": {},
     "output_type": "execute_result"
    }
   ],
   "source": [
    "original_data.head()"
   ]
  },
  {
   "cell_type": "markdown",
   "id": "47f7f0b1",
   "metadata": {},
   "source": [
    "**Additional Dataset**\n",
    "\n",
    "Our additional dataset contains data pertaining to season-level record data for several football leagues. This data itself contains the statistics related to a team's performance over a given season, including total wins/draws/losses, league rankings, and cumulative goals scored. The dataset provides insight into the overall performance of each team in a given season."
   ]
  },
  {
   "cell_type": "code",
   "execution_count": 4,
   "id": "9d894e71",
   "metadata": {},
   "outputs": [
    {
     "data": {
      "text/plain": "           League   Season Position            Team  Matches  Wins  Draws  \\\n0  Premier League  2015/16       2          Arsenal       38    20     11   \n1  Premier League  2015/16      20      Aston Villa       38     3      8   \n2  Premier League  2015/16      16      Bournemouth       38    11      9   \n3  Premier League  2015/16      10          Chelsea       38    12     14   \n4  Premier League  2015/16      15   Crystal Palace       38    11      9   \n\n   Losses  GoalsScored  GoalsConceded  GoalDiff  FinalPoints  \n0       7           65             36        29           71  \n1      27           27             76       -49           17  \n2      18           45             67       -22           42  \n3      12           59             53         6           50  \n4      18           39             51       -12           42  ",
      "text/html": "<div>\n<style scoped>\n    .dataframe tbody tr th:only-of-type {\n        vertical-align: middle;\n    }\n\n    .dataframe tbody tr th {\n        vertical-align: top;\n    }\n\n    .dataframe thead th {\n        text-align: right;\n    }\n</style>\n<table border=\"1\" class=\"dataframe\">\n  <thead>\n    <tr style=\"text-align: right;\">\n      <th></th>\n      <th>League</th>\n      <th>Season</th>\n      <th>Position</th>\n      <th>Team</th>\n      <th>Matches</th>\n      <th>Wins</th>\n      <th>Draws</th>\n      <th>Losses</th>\n      <th>GoalsScored</th>\n      <th>GoalsConceded</th>\n      <th>GoalDiff</th>\n      <th>FinalPoints</th>\n    </tr>\n  </thead>\n  <tbody>\n    <tr>\n      <th>0</th>\n      <td>Premier League</td>\n      <td>2015/16</td>\n      <td>2</td>\n      <td>Arsenal</td>\n      <td>38</td>\n      <td>20</td>\n      <td>11</td>\n      <td>7</td>\n      <td>65</td>\n      <td>36</td>\n      <td>29</td>\n      <td>71</td>\n    </tr>\n    <tr>\n      <th>1</th>\n      <td>Premier League</td>\n      <td>2015/16</td>\n      <td>20</td>\n      <td>Aston Villa</td>\n      <td>38</td>\n      <td>3</td>\n      <td>8</td>\n      <td>27</td>\n      <td>27</td>\n      <td>76</td>\n      <td>-49</td>\n      <td>17</td>\n    </tr>\n    <tr>\n      <th>2</th>\n      <td>Premier League</td>\n      <td>2015/16</td>\n      <td>16</td>\n      <td>Bournemouth</td>\n      <td>38</td>\n      <td>11</td>\n      <td>9</td>\n      <td>18</td>\n      <td>45</td>\n      <td>67</td>\n      <td>-22</td>\n      <td>42</td>\n    </tr>\n    <tr>\n      <th>3</th>\n      <td>Premier League</td>\n      <td>2015/16</td>\n      <td>10</td>\n      <td>Chelsea</td>\n      <td>38</td>\n      <td>12</td>\n      <td>14</td>\n      <td>12</td>\n      <td>59</td>\n      <td>53</td>\n      <td>6</td>\n      <td>50</td>\n    </tr>\n    <tr>\n      <th>4</th>\n      <td>Premier League</td>\n      <td>2015/16</td>\n      <td>15</td>\n      <td>Crystal Palace</td>\n      <td>38</td>\n      <td>11</td>\n      <td>9</td>\n      <td>18</td>\n      <td>39</td>\n      <td>51</td>\n      <td>-12</td>\n      <td>42</td>\n    </tr>\n  </tbody>\n</table>\n</div>"
     },
     "execution_count": 4,
     "metadata": {},
     "output_type": "execute_result"
    }
   ],
   "source": [
    "additional_data.head()"
   ]
  },
  {
   "cell_type": "markdown",
   "id": "eb7adf0c",
   "metadata": {},
   "source": [
    "### Questions Guiding Our Exploration\n",
    "\n",
    "1. Are match statistics good indicators of a team's performance in the future?\n",
    "2. Does a correlation exist between a team's season ranking and certain match statistics?\n",
    "3. Are match wins truly influenced by stats, or are there external conditions that cannot be found within the data?\n",
    "4. Can the relative \"excitement\" of a match along with a home team advantage predict a team's performance?"
   ]
  },
  {
   "cell_type": "markdown",
   "id": "7dc8b1e5-3e29-4da6-8d36-0e7cf48a3e59",
   "metadata": {},
   "source": [
    "### Part 2 - Data Inspection\n",
    "\n",
    "Write some code to summarize the datasets.  Think about the following questions:\n",
    "- What type of data is each variable? (think like a data scientist here, not a computer scientist)\n",
    "- What is the total size of the data sets?\n",
    "- What time boundaries are there in the dataset?  IOW, what time frame do they span?\n",
    "- Are there any missing values in any of the variables? \n",
    "\n",
    "Do this with Intentionality.  Don't skimp. "
   ]
  },
  {
   "cell_type": "markdown",
   "id": "a4fa536f",
   "metadata": {},
   "source": [
    "#### Describing the Original Dataset\n",
    "\n",
    "By previewing our dataframe and calling `DataFrame.info()`, we can see each variable's datatype as well as any missing variables, along with gaining an understanding of the size of our data."
   ]
  },
  {
   "cell_type": "code",
   "execution_count": 5,
   "id": "67cc9b5c",
   "metadata": {},
   "outputs": [
    {
     "data": {
      "text/plain": "   Unnamed: 0       Home Team   Away Team Score Half Time Score  \\\n0           0         MAN UTD     SWANSEA   1-2             0-1   \n1           1       WEST BROM  SUNDERLAND   2-2             1-1   \n2           2  LEICESTER CITY     EVERTON   2-2             1-2   \n3           3        WEST HAM   TOTTENHAM   0-1             0-0   \n4           4             QPR   HULL CITY   0-1             0-0   \n\n   Match Excitement  Home Team Rating  Away Team Rating  \\\n0               5.9               5.6               7.6   \n1               7.3               6.5               7.4   \n2               7.0               6.5               6.3   \n3               4.8               5.9               6.4   \n4               3.8               5.7               6.6   \n\n   Home Team Possession %  Away Team Possession %  ...  Away Team Fouls  \\\n0                      60                      40  ...             20.0   \n1                      58                      42  ...              9.0   \n2                      37                      63  ...             10.0   \n3                      47                      53  ...             10.0   \n4                      51                      49  ...             10.0   \n\n   Away Team Yellow Cards  Away Team Second Yellow Cards  Away Team Red Cards  \\\n0                     4.0                            0.0                  0.0   \n1                     1.0                            0.0                  0.0   \n2                     1.0                            0.0                  0.0   \n3                     0.0                            0.0                  1.0   \n4                     2.0                            0.0                  0.0   \n\n   Home Team Goals Scored  Away Team Goals Scored  Home Team Goals Conceeded  \\\n0                       1                       2                          2   \n1                       2                       2                          2   \n2                       2                       2                          2   \n3                       0                       1                          1   \n4                       0                       1                          1   \n\n   Away Team Goals Conceeded  year   league  \n0                          1  2014  english  \n1                          2  2014  english  \n2                          2  2014  english  \n3                          0  2014  english  \n4                          0  2014  english  \n\n[5 rows x 42 columns]",
      "text/html": "<div>\n<style scoped>\n    .dataframe tbody tr th:only-of-type {\n        vertical-align: middle;\n    }\n\n    .dataframe tbody tr th {\n        vertical-align: top;\n    }\n\n    .dataframe thead th {\n        text-align: right;\n    }\n</style>\n<table border=\"1\" class=\"dataframe\">\n  <thead>\n    <tr style=\"text-align: right;\">\n      <th></th>\n      <th>Unnamed: 0</th>\n      <th>Home Team</th>\n      <th>Away Team</th>\n      <th>Score</th>\n      <th>Half Time Score</th>\n      <th>Match Excitement</th>\n      <th>Home Team Rating</th>\n      <th>Away Team Rating</th>\n      <th>Home Team Possession %</th>\n      <th>Away Team Possession %</th>\n      <th>...</th>\n      <th>Away Team Fouls</th>\n      <th>Away Team Yellow Cards</th>\n      <th>Away Team Second Yellow Cards</th>\n      <th>Away Team Red Cards</th>\n      <th>Home Team Goals Scored</th>\n      <th>Away Team Goals Scored</th>\n      <th>Home Team Goals Conceeded</th>\n      <th>Away Team Goals Conceeded</th>\n      <th>year</th>\n      <th>league</th>\n    </tr>\n  </thead>\n  <tbody>\n    <tr>\n      <th>0</th>\n      <td>0</td>\n      <td>MAN UTD</td>\n      <td>SWANSEA</td>\n      <td>1-2</td>\n      <td>0-1</td>\n      <td>5.9</td>\n      <td>5.6</td>\n      <td>7.6</td>\n      <td>60</td>\n      <td>40</td>\n      <td>...</td>\n      <td>20.0</td>\n      <td>4.0</td>\n      <td>0.0</td>\n      <td>0.0</td>\n      <td>1</td>\n      <td>2</td>\n      <td>2</td>\n      <td>1</td>\n      <td>2014</td>\n      <td>english</td>\n    </tr>\n    <tr>\n      <th>1</th>\n      <td>1</td>\n      <td>WEST BROM</td>\n      <td>SUNDERLAND</td>\n      <td>2-2</td>\n      <td>1-1</td>\n      <td>7.3</td>\n      <td>6.5</td>\n      <td>7.4</td>\n      <td>58</td>\n      <td>42</td>\n      <td>...</td>\n      <td>9.0</td>\n      <td>1.0</td>\n      <td>0.0</td>\n      <td>0.0</td>\n      <td>2</td>\n      <td>2</td>\n      <td>2</td>\n      <td>2</td>\n      <td>2014</td>\n      <td>english</td>\n    </tr>\n    <tr>\n      <th>2</th>\n      <td>2</td>\n      <td>LEICESTER CITY</td>\n      <td>EVERTON</td>\n      <td>2-2</td>\n      <td>1-2</td>\n      <td>7.0</td>\n      <td>6.5</td>\n      <td>6.3</td>\n      <td>37</td>\n      <td>63</td>\n      <td>...</td>\n      <td>10.0</td>\n      <td>1.0</td>\n      <td>0.0</td>\n      <td>0.0</td>\n      <td>2</td>\n      <td>2</td>\n      <td>2</td>\n      <td>2</td>\n      <td>2014</td>\n      <td>english</td>\n    </tr>\n    <tr>\n      <th>3</th>\n      <td>3</td>\n      <td>WEST HAM</td>\n      <td>TOTTENHAM</td>\n      <td>0-1</td>\n      <td>0-0</td>\n      <td>4.8</td>\n      <td>5.9</td>\n      <td>6.4</td>\n      <td>47</td>\n      <td>53</td>\n      <td>...</td>\n      <td>10.0</td>\n      <td>0.0</td>\n      <td>0.0</td>\n      <td>1.0</td>\n      <td>0</td>\n      <td>1</td>\n      <td>1</td>\n      <td>0</td>\n      <td>2014</td>\n      <td>english</td>\n    </tr>\n    <tr>\n      <th>4</th>\n      <td>4</td>\n      <td>QPR</td>\n      <td>HULL CITY</td>\n      <td>0-1</td>\n      <td>0-0</td>\n      <td>3.8</td>\n      <td>5.7</td>\n      <td>6.6</td>\n      <td>51</td>\n      <td>49</td>\n      <td>...</td>\n      <td>10.0</td>\n      <td>2.0</td>\n      <td>0.0</td>\n      <td>0.0</td>\n      <td>0</td>\n      <td>1</td>\n      <td>1</td>\n      <td>0</td>\n      <td>2014</td>\n      <td>english</td>\n    </tr>\n  </tbody>\n</table>\n<p>5 rows × 42 columns</p>\n</div>"
     },
     "execution_count": 5,
     "metadata": {},
     "output_type": "execute_result"
    }
   ],
   "source": [
    "original_data.head()"
   ]
  },
  {
   "cell_type": "code",
   "execution_count": 6,
   "id": "31ea0e37-841e-4be8-95c3-40c54118a52b",
   "metadata": {},
   "outputs": [
    {
     "name": "stdout",
     "output_type": "stream",
     "text": [
      "<class 'pandas.core.frame.DataFrame'>\n",
      "RangeIndex: 12062 entries, 0 to 12061\n",
      "Data columns (total 42 columns):\n",
      " #   Column                         Non-Null Count  Dtype  \n",
      "---  ------                         --------------  -----  \n",
      " 0   Unnamed: 0                     12062 non-null  int64  \n",
      " 1   Home Team                      12062 non-null  object \n",
      " 2   Away Team                      12062 non-null  object \n",
      " 3   Score                          12062 non-null  object \n",
      " 4   Half Time Score                12062 non-null  object \n",
      " 5   Match Excitement               12062 non-null  float64\n",
      " 6   Home Team Rating               12062 non-null  float64\n",
      " 7   Away Team Rating               12062 non-null  float64\n",
      " 8   Home Team Possession %         12062 non-null  int64  \n",
      " 9   Away Team Possession %         12062 non-null  int64  \n",
      " 10  Home Team Off Target Shots     12062 non-null  float64\n",
      " 11  Home Team On Target Shots      12062 non-null  float64\n",
      " 12  Home Team Total Shots          12062 non-null  float64\n",
      " 13  Home Team Blocked Shots        12062 non-null  float64\n",
      " 14  Home Team Corners              12062 non-null  float64\n",
      " 15  Home Team Throw Ins            12062 non-null  float64\n",
      " 16  Home Team Pass Success %       12062 non-null  float64\n",
      " 17  Home Team Aerials Won          12062 non-null  float64\n",
      " 18  Home Team Clearances           12062 non-null  float64\n",
      " 19  Home Team Fouls                12062 non-null  float64\n",
      " 20  Home Team Yellow Cards         12062 non-null  float64\n",
      " 21  Home Team Second Yellow Cards  12062 non-null  float64\n",
      " 22  Home Team Red Cards            12062 non-null  float64\n",
      " 23  Away Team Off Target Shots     12062 non-null  float64\n",
      " 24  Away Team On Target Shots      12062 non-null  float64\n",
      " 25  Away Team Total Shots          12062 non-null  float64\n",
      " 26  Away Team Blocked Shots        12062 non-null  float64\n",
      " 27  Away Team Corners              12062 non-null  float64\n",
      " 28  Away Team Throw Ins            12062 non-null  float64\n",
      " 29  Away Team Pass Success %       12062 non-null  float64\n",
      " 30  Away Team Aerials Won          12062 non-null  float64\n",
      " 31  Away Team Clearances           12062 non-null  float64\n",
      " 32  Away Team Fouls                12062 non-null  float64\n",
      " 33  Away Team Yellow Cards         12062 non-null  float64\n",
      " 34  Away Team Second Yellow Cards  12062 non-null  float64\n",
      " 35  Away Team Red Cards            12062 non-null  float64\n",
      " 36  Home Team Goals Scored         12062 non-null  int64  \n",
      " 37  Away Team Goals Scored         12062 non-null  int64  \n",
      " 38  Home Team Goals Conceeded      12062 non-null  int64  \n",
      " 39  Away Team Goals Conceeded      12062 non-null  int64  \n",
      " 40  year                           12062 non-null  int64  \n",
      " 41  league                         12062 non-null  object \n",
      "dtypes: float64(29), int64(8), object(5)\n",
      "memory usage: 3.9+ MB\n"
     ]
    }
   ],
   "source": [
    "original_data.info()"
   ]
  },
  {
   "cell_type": "markdown",
   "source": [
    "Data is accounted for in each row of our dataframe, suggesting no missing values."
   ],
   "metadata": {
    "collapsed": false,
    "pycharm": {
     "name": "#%% md\n"
    }
   }
  },
  {
   "cell_type": "code",
   "execution_count": 32,
   "id": "f3e86dcd",
   "metadata": {},
   "outputs": [
    {
     "data": {
      "text/plain": "array([2014, 2015, 2016, 2017, 2018, 2019, 2020])"
     },
     "execution_count": 32,
     "metadata": {},
     "output_type": "execute_result"
    }
   ],
   "source": [
    "original_data['year'].unique()"
   ]
  },
  {
   "cell_type": "markdown",
   "source": [
    "The timeframe for our match-level data spans from 2014-2020"
   ],
   "metadata": {
    "collapsed": false,
    "pycharm": {
     "name": "#%% md\n"
    }
   }
  },
  {
   "cell_type": "code",
   "execution_count": 51,
   "id": "0a69d170",
   "metadata": {},
   "outputs": [
    {
     "data": {
      "text/plain": "MAN UTD       133\nSAMPDORIA     133\nMAN CITY      133\nVALENCIA      133\nFIORENTINA    133\n             ... \nNÜRNBERG       17\nDARMSTADT      17\nPADERBORN      17\nBIELEFELD      17\nINGOLSTADT     17\nName: Home Team, Length: 146, dtype: int64"
     },
     "execution_count": 51,
     "metadata": {},
     "output_type": "execute_result"
    }
   ],
   "source": [
    "# Obtain the number of teams and home matches contained in our primary dataset\n",
    "original_data['Home Team'].value_counts()"
   ]
  },
  {
   "cell_type": "markdown",
   "source": [
    "From here, we can see that there is a total of 146 teams within the original dataset, each of which playing between 17 and 133 home matches over the 7 years of data."
   ],
   "metadata": {
    "collapsed": false,
    "pycharm": {
     "name": "#%% md\n"
    }
   }
  },
  {
   "cell_type": "code",
   "execution_count": 46,
   "id": "5640aace",
   "metadata": {},
   "outputs": [
    {
     "data": {
      "text/plain": "True"
     },
     "execution_count": 46,
     "metadata": {},
     "output_type": "execute_result"
    }
   ],
   "source": [
    "# Check that the teams contained in the \"away\" column match the teams in the \"home\" column\n",
    "\n",
    "not False in original_data['Away Team'].sort_values().unique() == original_data['Home Team'].sort_values().unique()"
   ]
  },
  {
   "cell_type": "markdown",
   "source": [
    "By checking that the unique lists of both Home and Away team columns are equivalent, we can confirm that all 146 teams are accounted for as both home and away teams in this dataset. This allows us the assumption that a unique list of either column is the complete list of all teams."
   ],
   "metadata": {
    "collapsed": false,
    "pycharm": {
     "name": "#%% md\n"
    }
   }
  },
  {
   "cell_type": "markdown",
   "id": "6430b9a2",
   "metadata": {},
   "source": [
    "#### Describing the Additional Dataset\n",
    "\n",
    "Again, we'll preview our data and use `DataFrame.info()` to explore the variables contained in our season-level record data."
   ]
  },
  {
   "cell_type": "code",
   "execution_count": 10,
   "id": "d37bb381",
   "metadata": {},
   "outputs": [
    {
     "data": {
      "text/plain": "           League   Season Position            Team  Matches  Wins  Draws  \\\n0  Premier League  2015/16       2          Arsenal       38    20     11   \n1  Premier League  2015/16      20      Aston Villa       38     3      8   \n2  Premier League  2015/16      16      Bournemouth       38    11      9   \n3  Premier League  2015/16      10          Chelsea       38    12     14   \n4  Premier League  2015/16      15   Crystal Palace       38    11      9   \n\n   Losses  GoalsScored  GoalsConceded  GoalDiff  FinalPoints  \n0       7           65             36        29           71  \n1      27           27             76       -49           17  \n2      18           45             67       -22           42  \n3      12           59             53         6           50  \n4      18           39             51       -12           42  ",
      "text/html": "<div>\n<style scoped>\n    .dataframe tbody tr th:only-of-type {\n        vertical-align: middle;\n    }\n\n    .dataframe tbody tr th {\n        vertical-align: top;\n    }\n\n    .dataframe thead th {\n        text-align: right;\n    }\n</style>\n<table border=\"1\" class=\"dataframe\">\n  <thead>\n    <tr style=\"text-align: right;\">\n      <th></th>\n      <th>League</th>\n      <th>Season</th>\n      <th>Position</th>\n      <th>Team</th>\n      <th>Matches</th>\n      <th>Wins</th>\n      <th>Draws</th>\n      <th>Losses</th>\n      <th>GoalsScored</th>\n      <th>GoalsConceded</th>\n      <th>GoalDiff</th>\n      <th>FinalPoints</th>\n    </tr>\n  </thead>\n  <tbody>\n    <tr>\n      <th>0</th>\n      <td>Premier League</td>\n      <td>2015/16</td>\n      <td>2</td>\n      <td>Arsenal</td>\n      <td>38</td>\n      <td>20</td>\n      <td>11</td>\n      <td>7</td>\n      <td>65</td>\n      <td>36</td>\n      <td>29</td>\n      <td>71</td>\n    </tr>\n    <tr>\n      <th>1</th>\n      <td>Premier League</td>\n      <td>2015/16</td>\n      <td>20</td>\n      <td>Aston Villa</td>\n      <td>38</td>\n      <td>3</td>\n      <td>8</td>\n      <td>27</td>\n      <td>27</td>\n      <td>76</td>\n      <td>-49</td>\n      <td>17</td>\n    </tr>\n    <tr>\n      <th>2</th>\n      <td>Premier League</td>\n      <td>2015/16</td>\n      <td>16</td>\n      <td>Bournemouth</td>\n      <td>38</td>\n      <td>11</td>\n      <td>9</td>\n      <td>18</td>\n      <td>45</td>\n      <td>67</td>\n      <td>-22</td>\n      <td>42</td>\n    </tr>\n    <tr>\n      <th>3</th>\n      <td>Premier League</td>\n      <td>2015/16</td>\n      <td>10</td>\n      <td>Chelsea</td>\n      <td>38</td>\n      <td>12</td>\n      <td>14</td>\n      <td>12</td>\n      <td>59</td>\n      <td>53</td>\n      <td>6</td>\n      <td>50</td>\n    </tr>\n    <tr>\n      <th>4</th>\n      <td>Premier League</td>\n      <td>2015/16</td>\n      <td>15</td>\n      <td>Crystal Palace</td>\n      <td>38</td>\n      <td>11</td>\n      <td>9</td>\n      <td>18</td>\n      <td>39</td>\n      <td>51</td>\n      <td>-12</td>\n      <td>42</td>\n    </tr>\n  </tbody>\n</table>\n</div>"
     },
     "execution_count": 10,
     "metadata": {},
     "output_type": "execute_result"
    }
   ],
   "source": [
    "additional_data.head()"
   ]
  },
  {
   "cell_type": "code",
   "execution_count": 11,
   "id": "8f0614e4",
   "metadata": {},
   "outputs": [
    {
     "name": "stdout",
     "output_type": "stream",
     "text": [
      "<class 'pandas.core.frame.DataFrame'>\n",
      "RangeIndex: 399 entries, 0 to 398\n",
      "Data columns (total 12 columns):\n",
      " #   Column         Non-Null Count  Dtype \n",
      "---  ------         --------------  ----- \n",
      " 0   League         399 non-null    object\n",
      " 1   Season         399 non-null    object\n",
      " 2   Position       399 non-null    object\n",
      " 3   Team           399 non-null    object\n",
      " 4   Matches        399 non-null    int64 \n",
      " 5   Wins           399 non-null    int64 \n",
      " 6   Draws          399 non-null    int64 \n",
      " 7   Losses         399 non-null    int64 \n",
      " 8   GoalsScored    399 non-null    int64 \n",
      " 9   GoalsConceded  399 non-null    int64 \n",
      " 10  GoalDiff       399 non-null    int64 \n",
      " 11  FinalPoints    399 non-null    int64 \n",
      "dtypes: int64(8), object(4)\n",
      "memory usage: 37.5+ KB\n"
     ]
    }
   ],
   "source": [
    "additional_data.info()"
   ]
  },
  {
   "cell_type": "markdown",
   "source": [
    "As with the primary dataset, no values appear to be missing from any row."
   ],
   "metadata": {
    "collapsed": false,
    "pycharm": {
     "name": "#%% md\n"
    }
   }
  },
  {
   "cell_type": "code",
   "execution_count": 52,
   "id": "e9eab9c9",
   "metadata": {},
   "outputs": [
    {
     "data": {
      "text/plain": "array(['2015/16', '2016/17', '2017/18', '2018/19', '2019/20', 2015, 2016,\n       2017, 2018, 2019], dtype=object)"
     },
     "execution_count": 52,
     "metadata": {},
     "output_type": "execute_result"
    }
   ],
   "source": [
    "additional_data['Season'].unique()"
   ]
  },
  {
   "cell_type": "markdown",
   "source": [
    "Data in our season-level data ranges from 2015 to 2019."
   ],
   "metadata": {
    "collapsed": false,
    "pycharm": {
     "name": "#%% md\n"
    }
   }
  },
  {
   "cell_type": "code",
   "execution_count": 53,
   "id": "adfa7259",
   "metadata": {},
   "outputs": [
    {
     "data": {
      "text/plain": "Arsenal             5\nBayer Leverkusen    5\nChicago Fire        5\nReal Madrid         5\nReal Sociedad       5\n                   ..\nFC Union Berlin     1\nSD Huesca           1\nRCD Mallorca        1\nFC Nurnberg         1\nFC Cincinnati       1\nName: Team, Length: 104, dtype: int64"
     },
     "execution_count": 53,
     "metadata": {},
     "output_type": "execute_result"
    }
   ],
   "source": [
    "additional_data['Team'].value_counts()"
   ]
  },
  {
   "cell_type": "markdown",
   "source": [
    "Exploring this second dataset, we see a different number of teams reported. This informs us that league data will need to be reconciled between the two datasets during our cleaning process."
   ],
   "metadata": {
    "collapsed": false,
    "pycharm": {
     "name": "#%% md\n"
    }
   }
  },
  {
   "cell_type": "markdown",
   "id": "f816006c-868c-4863-b0b8-e56e8a1ec8f3",
   "metadata": {
    "tags": []
   },
   "source": [
    "### Part 3 - Data Description\n",
    "\n",
    "- Create a data description (data dictionary) for your data sets.\n",
    "    - Describe each variable\n",
    "    - If categorical, what levels are present? If the levels are encoded, what do the codes mean?\n",
    "    - If numeric, provide min, max, median and any other univariate stats you'd like to add in. \n",
    "- Where appropriate, provide histograms or other visualizations to characterize each variable. "
   ]
  },
  {
   "cell_type": "markdown",
   "id": "78e72e20-2c70-4d51-9662-d373f5c2306c",
   "metadata": {},
   "source": [
    "#### Data Dictionary - Original Data"
   ]
  },
  {
   "cell_type": "markdown",
   "metadata": {},
   "source": [
    "| Variable                                   | Type                                    | Description                                                                                                                      |\n",
    "|--------------------------------------------|-----------------------------------------|----------------------------------------------------------------------------------------------------------------------------------|\n",
    "| `Home Team`                                | Categorical (Nominal)                   | Name of the hosting team                                                                                                         |\n",
    "| `Away Team`                                | Categorical (Nominal)                   | Name of the visiting team                                                                                                        |\n",
    "| `Score`                                    | Numerical (Discrete, Compound Variable) | Final score of the match, delimited by a hyphen, with the home team score on the left side, and the away team score on the right |\n",
    "| `Half Time Score`                          | Numerical (Discrete, Compound Variable) | Similar to the score variable, but representing the score after the first half                                                   |\n",
    "| `Match Excitement`                         | Numerical (Continuous)                  | Index calculated between 0 and 10 based on game statistics that would indicate an \"exciting\" match                               |\n",
    "| `Home`/`Away Team Rating`                  | Numerical (Continuous)                  | Index representing relative performance of a team prior to a match                                                               |\n",
    "| `Home`/`Away Team Possession %`            | Numerical (Discrete*)                   | Percentage of total gameplay time for which the team had control of the ball                                                     |\n",
    "| `Home`/`Away Team Off Target Shots`        | Numerical (Discrete)                    | Total off target shots taken by a team                                                                                           |\n",
    "| `Home`/`Away Team On Target Shots`         | Numerical (Discrete)                    | Total on target shots taken by a team                                                                                            |\n",
    "| `Home`/`Away Team Total Shots`             | Numerical (Discrete)                    | Total shots attempted by a team                                                                                                  |\n",
    "| `Home`/`Away Team Blocked Shots`           | Numerical (Discrete)                    | Total shots attempted by a team that were blocked                                                                                |\n",
    "| `Home`/`Away Team Corners`                 | Numerical (Discrete)                    | Total corner kicks attempted by a team                                                                                           |\n",
    "| `Home`/`Away Team Throw Ins`               | Numerical (Discrete)                    | Total number of throw-ins initiated by a team                                                                                    |\n",
    "| `Home`/`Away Team Pass Success %`          | Numerical (Discrete*)                   | Percentage of successful passes out of total attempted passes                                                                    |\n",
    "| `Home`/`Away Team Aerials Won`             | Numerical (Discrete)                    | Number of successful aerial passes completed                                                                                     |\n",
    "| `Home`/`Away Team Clearances`              | Numerical (Discrete)                    | Number of times a team cleared the ball away from their goal defensively                                                         |\n",
    "| `Home`/`Away Team Fouls`                   | Numerical (Discrete)                    | Number of fouls committed by a team                                                                                              |\n",
    "| `Home`/`Away Team Yellow Cards`            | Numerical (Discrete)                    | Number of yellow cards issued to a team's players                                                                                |\n",
    "| `Home`/`Away Team Second Yellow Cards`     | Numerical (Discrete)                    | Number of second yellow cards issued to a team's player                                                                          |\n",
    "| `Home`/`Away Team Red Cards`               | Numerical (Discrete)                    | Number of red cards issued a teams players                                                                                       |\n",
    "| `Home`/`Away Team Goals Scored`            | Numerical (Discrete)                    | Number of successful goals scored by a team                                                                                      |\n",
    "| `Home`/`Away Team Goals Conceeded` _(sic)_ | Numerical (Discrete)                    | Number of failed blocks of the opposing team's goal attempts                                                                     |\n",
    "| `year`                                     | Categorical (Ordinal)                   | Season year during which the match occured                                                                                       |\n",
    "| `league`                                   | Categorical (Nominal)                   | League of which the playing teams are members                                                                                    |\n",
    "*\\* Would otherwise be continuous, but the data is presented rounded to the nearest whole percent*"
   ]
  },
  {
   "cell_type": "code",
   "execution_count": 14,
   "id": "2cdac869",
   "metadata": {},
   "outputs": [
    {
     "data": {
      "text/plain": "array([[<AxesSubplot:title={'center':'Unnamed: 0'}>,\n        <AxesSubplot:title={'center':'Match Excitement'}>,\n        <AxesSubplot:title={'center':'Home Team Rating'}>,\n        <AxesSubplot:title={'center':'Away Team Rating'}>,\n        <AxesSubplot:title={'center':'Home Team Possession %'}>,\n        <AxesSubplot:title={'center':'Away Team Possession %'}>],\n       [<AxesSubplot:title={'center':'Home Team Off Target Shots'}>,\n        <AxesSubplot:title={'center':'Home Team On Target Shots'}>,\n        <AxesSubplot:title={'center':'Home Team Total Shots'}>,\n        <AxesSubplot:title={'center':'Home Team Blocked Shots'}>,\n        <AxesSubplot:title={'center':'Home Team Corners'}>,\n        <AxesSubplot:title={'center':'Home Team Throw Ins'}>],\n       [<AxesSubplot:title={'center':'Home Team Pass Success %'}>,\n        <AxesSubplot:title={'center':'Home Team Aerials Won'}>,\n        <AxesSubplot:title={'center':'Home Team Clearances'}>,\n        <AxesSubplot:title={'center':'Home Team Fouls'}>,\n        <AxesSubplot:title={'center':'Home Team Yellow Cards'}>,\n        <AxesSubplot:title={'center':'Home Team Second Yellow Cards'}>],\n       [<AxesSubplot:title={'center':'Home Team Red Cards'}>,\n        <AxesSubplot:title={'center':'Away Team Off Target Shots'}>,\n        <AxesSubplot:title={'center':'Away Team On Target Shots'}>,\n        <AxesSubplot:title={'center':'Away Team Total Shots'}>,\n        <AxesSubplot:title={'center':'Away Team Blocked Shots'}>,\n        <AxesSubplot:title={'center':'Away Team Corners'}>],\n       [<AxesSubplot:title={'center':'Away Team Throw Ins'}>,\n        <AxesSubplot:title={'center':'Away Team Pass Success %'}>,\n        <AxesSubplot:title={'center':'Away Team Aerials Won'}>,\n        <AxesSubplot:title={'center':'Away Team Clearances'}>,\n        <AxesSubplot:title={'center':'Away Team Fouls'}>,\n        <AxesSubplot:title={'center':'Away Team Yellow Cards'}>],\n       [<AxesSubplot:title={'center':'Away Team Second Yellow Cards'}>,\n        <AxesSubplot:title={'center':'Away Team Red Cards'}>,\n        <AxesSubplot:title={'center':'Home Team Goals Scored'}>,\n        <AxesSubplot:title={'center':'Away Team Goals Scored'}>,\n        <AxesSubplot:title={'center':'Home Team Goals Conceeded'}>,\n        <AxesSubplot:title={'center':'Away Team Goals Conceeded'}>],\n       [<AxesSubplot:title={'center':'year'}>, <AxesSubplot:>,\n        <AxesSubplot:>, <AxesSubplot:>, <AxesSubplot:>, <AxesSubplot:>]],\n      dtype=object)"
     },
     "execution_count": 14,
     "metadata": {},
     "output_type": "execute_result"
    },
    {
     "data": {
      "text/plain": "<Figure size 1440x1080 with 42 Axes>",
      "image/png": "[encoded data removed]"
     },
     "metadata": {},
     "output_type": "display_data"
    }
   ],
   "source": [
    "original_data.hist(bins=50, figsize=(20,15))"
   ]
  },
  {
   "cell_type": "markdown",
   "id": "78e72e20-2c70-4d51-9662-d373f5c2306c",
   "metadata": {},
   "source": [
    "#### Data Dictionary - Additional Data"
   ]
  },
  {
   "cell_type": "markdown",
   "id": "a43166f5",
   "metadata": {},
   "source": [
    "\n",
    "##### **Quantitative Variables**\n",
    "\n",
    "##### **Categorical Variables**\n",
    "\n",
    "**League -** \n",
    "\n",
    "**Season -** \n",
    "\n",
    "**Team -**\n",
    "\n",
    "**Wins -** \n",
    "\n",
    "**Draws -** \n",
    "\n",
    "**Losses -** \n",
    "\n",
    "**Goals Scored -** \n",
    "\n",
    "**Goals Conceded -** \n",
    "\n",
    "**Goal Diff -** \n",
    "\n",
    "**Final Points -**\n"
   ]
  },
  {
   "cell_type": "code",
   "execution_count": 15,
   "id": "e7b1c880",
   "metadata": {},
   "outputs": [
    {
     "data": {
      "text/plain": "array([[<AxesSubplot:title={'center':'Matches'}>,\n        <AxesSubplot:title={'center':'Wins'}>,\n        <AxesSubplot:title={'center':'Draws'}>],\n       [<AxesSubplot:title={'center':'Losses'}>,\n        <AxesSubplot:title={'center':'GoalsScored'}>,\n        <AxesSubplot:title={'center':'GoalsConceded'}>],\n       [<AxesSubplot:title={'center':'GoalDiff'}>,\n        <AxesSubplot:title={'center':'FinalPoints'}>, <AxesSubplot:>]],\n      dtype=object)"
     },
     "execution_count": 15,
     "metadata": {},
     "output_type": "execute_result"
    },
    {
     "data": {
      "text/plain": "<Figure size 1440x1080 with 9 Axes>",
      "image/png": "[encoded data removed]"
     },
     "metadata": {},
     "output_type": "display_data"
    }
   ],
   "source": [
    "additional_data.hist(bins=50, figsize=(20,15))"
   ]
  },
  {
   "cell_type": "markdown",
   "id": "e3afbb04-3bee-4c47-b4ba-d2bfc247492a",
   "metadata": {},
   "source": [
    "### Part 4 - Merge the data\n",
    "\n",
    "Now that you have a better feel for each of your two (or three, for the 7394 students) data sets, it is time to merge them. Describe your strategy for merging the data sets and then actually perform the merge.  \n",
    "\n",
    "Develop a strategy for verifying that the data is properly merged (hoping and finger-crossing are not valid strategies)."
   ]
  },
  {
   "cell_type": "markdown",
   "id": "5d7ea8fa",
   "metadata": {},
   "source": [
    "### Our Merging Strategy\n",
    "\n",
    "When cleaning the data for merging, we'll take a couple of primary variables into account—the season of the match and the teams who played. We'll first isolate only the leagues for which data is common between the two sets. Then, we'll explore how we'll clean the string variables for the team names to be consistent with one another.\n",
    "\n",
    "To verify our merge is successful, we'll calculate season records based on match wins and losses from our original data set and test that the records as calculated on a match level are consistent with the season records as reported in our additional data set. This will ensure that each merged row is consistent with the data from both sets."
   ]
  },
  {
   "cell_type": "markdown",
   "id": "6ccfb384-f695-4a49-a084-d373d45111f6",
   "metadata": {
    "pycharm": {
     "name": "#%% md\n"
    }
   },
   "source": [
    "### League Filtering\n",
    "\n",
    "First, we'll want to explore which leagues are reported in each of our data."
   ]
  },
  {
   "cell_type": "code",
   "execution_count": 16,
   "outputs": [
    {
     "data": {
      "text/plain": "array(['english', 'french', 'german', 'italian', 'spanish'], dtype=object)"
     },
     "execution_count": 16,
     "metadata": {},
     "output_type": "execute_result"
    }
   ],
   "source": [
    "original_data.league.unique()"
   ],
   "metadata": {
    "collapsed": false,
    "pycharm": {
     "name": "#%%\n"
    }
   }
  },
  {
   "cell_type": "code",
   "execution_count": 17,
   "outputs": [
    {
     "data": {
      "text/plain": "array(['Premier League', 'La Liga', 'Bundesliga', 'Major League Soccer'],\n      dtype=object)"
     },
     "execution_count": 17,
     "metadata": {},
     "output_type": "execute_result"
    }
   ],
   "source": [
    "additional_data.League.unique()"
   ],
   "metadata": {
    "collapsed": false,
    "pycharm": {
     "name": "#%%\n"
    }
   }
  },
  {
   "cell_type": "markdown",
   "source": [
    "We see that in our additional data, we have unneeded data for Major League Soccer, while lacking data for Italian and French leagues."
   ],
   "metadata": {
    "collapsed": false,
    "pycharm": {
     "name": "#%% md\n"
    }
   }
  },
  {
   "cell_type": "code",
   "execution_count": 18,
   "outputs": [],
   "source": [
    "df_orig = original_data.loc[original_data.league.isin(['english', 'german', 'spanish'])]\n",
    "df_addition = additional_data.loc[additional_data.League.isin(['Premier League', 'La Liga', 'Bundesliga'])]"
   ],
   "metadata": {
    "collapsed": false,
    "pycharm": {
     "name": "#%%\n"
    }
   }
  },
  {
   "cell_type": "markdown",
   "source": [
    "### Team Name Formatting\n",
    "\n",
    "Next, we'll explore how the team names are formatted differently for data cleaning purposes."
   ],
   "metadata": {
    "collapsed": false,
    "pycharm": {
     "name": "#%% md\n"
    }
   }
  },
  {
   "cell_type": "code",
   "execution_count": 19,
   "outputs": [],
   "source": [
    "df_addition.Team = df_addition.Team.apply(lambda x: str.upper(x))"
   ],
   "metadata": {
    "collapsed": false,
    "pycharm": {
     "name": "#%%\n"
    }
   }
  },
  {
   "cell_type": "markdown",
   "source": [
    "Now, let's see which teams can immediately be merged..."
   ],
   "metadata": {
    "collapsed": false,
    "pycharm": {
     "name": "#%% md\n"
    }
   }
  },
  {
   "cell_type": "code",
   "execution_count": 20,
   "outputs": [
    {
     "data": {
      "text/plain": "array(['ARSENAL', 'ASTON VILLA', 'ATLETICO MADRID', 'BOURNEMOUTH',\n       'BRIGHTON', 'BURNLEY', 'CHELSEA', 'CRYSTAL PALACE', 'ESPANYOL',\n       'EVERTON', 'FULHAM', 'HULL CITY', 'LEICESTER CITY', 'LIVERPOOL',\n       'MIDDLESBROUGH', 'RAYO VALLECANO', 'RB LEIPZIG', 'REAL MADRID',\n       'REAL SOCIEDAD', 'SEVILLA FC', 'SOUTHAMPTON', 'SUNDERLAND',\n       'WATFORD'], dtype=object)"
     },
     "execution_count": 20,
     "metadata": {},
     "output_type": "execute_result"
    }
   ],
   "source": [
    "# Values that are matched between datasets\n",
    "df_orig['Home Team'].loc[df_orig['Home Team'].isin(df_addition.Team)].sort_values().unique()"
   ],
   "metadata": {
    "collapsed": false,
    "pycharm": {
     "name": "#%%\n"
    }
   }
  },
  {
   "cell_type": "markdown",
   "source": [
    "... and which teams will need reformatting."
   ],
   "metadata": {
    "collapsed": false,
    "pycharm": {
     "name": "#%% md\n"
    }
   }
  },
  {
   "cell_type": "code",
   "execution_count": 21,
   "outputs": [
    {
     "data": {
      "text/plain": "array(['ATHLETIC BILBAO', 'BAYER LEVERKUSEN', 'BAYERN MUNICH',\n       'BORUSSIA DORTMUND', 'BORUSSIA MONCHENGLADBACH', 'CA OSASUNA',\n       'CARDIFF CITY', 'CD LEGANES', 'CELTA VIGO', 'DEPORTIVO ALAVES',\n       'DEPORTIVO LA CORUNA', 'EINTRACHT FRANKFURT', 'FC AUGSBURG',\n       'FC BARCELONA', 'FC INGOLSTADT 04', 'FC KOLN', 'FC NURNBERG',\n       'FC SCHALKE 04', 'FC UNION BERLIN', 'FORTUNA DUSSELDORF',\n       'FSV MAINZ 05', 'GETAFE CF', 'GIRONA FC', 'GRANADA CF',\n       'HAMBURGER SV', 'HANNOVER 96', 'HERTHA BSC', 'HUDDERSFIELD TOWN',\n       'LEVANTE UD', 'MALAGA CF', 'MANCHESTER CITY', 'MANCHESTER UNITED',\n       'NEWCASTLE UNITED', 'NORWICH CITY', 'RCD MALLORCA',\n       'REAL BETIS BALOMPIE', 'REAL VALLADOLID CF', 'SC FREIBURG',\n       'SC PADERBORN 07', 'SD EIBAR', 'SD HUESCA', 'SHEFFIELD UNITED',\n       'SPORTING GIJON', 'STOKE CITY', 'SV DARMSTADT 98',\n       'SV WERDER BREMEN', 'SWANSEA CITY', 'TOTTENHAM HOTSPUR',\n       'TSG 1899 HOFFENHEIM', 'UD LAS PALMAS', 'VALENCIA CF',\n       'VFB STUTTGART', 'VFL WOLFSBURG', 'VILLARREAL CF',\n       'WEST BROMWICH ALBION', 'WEST HAM UNITED',\n       'WOLVERHAMPTON WANDERERS'], dtype=object)"
     },
     "execution_count": 21,
     "metadata": {},
     "output_type": "execute_result"
    }
   ],
   "source": [
    "# Values that are unmatched in our additional data\n",
    "df_addition.Team.loc[~df_addition.Team.isin(df_orig['Home Team'])].sort_values().unique()"
   ],
   "metadata": {
    "collapsed": false,
    "pycharm": {
     "name": "#%%\n"
    }
   }
  },
  {
   "cell_type": "code",
   "execution_count": 22,
   "outputs": [
    {
     "data": {
      "text/plain": "array(['1. FC KÖLN', 'ALAVÉS', 'ALMERÍA', 'ATHLETIC', 'AUGSBURG',\n       'BARCELONA', 'BAYERN', 'BIELEFELD', 'CARDIFF', 'CELTA', 'CÁDIZ CF',\n       'CÓRDOBA', 'DARMSTADT', 'DEPORTIVO', 'DORTMUND', 'DÜSSELDORF',\n       'EIBAR', 'ELCHE', 'FRANKFURT', 'FREIBURG', 'GETAFE', 'GIJÓN',\n       'GIRONA', 'GRANADA', 'HANNOVER', 'HERTHA', 'HOFFENHEIM', 'HSV',\n       'HUDDERSFIELD', 'HUESCA', 'INGOLSTADT', 'LAS PALMAS', 'LEEDS UTD',\n       'LEGANÉS', 'LEVANTE', 'LEVERKUSEN', \"M'GLADBACH\", 'MAINZ',\n       'MALLORCA', 'MAN CITY', 'MAN UTD', 'MÁLAGA', 'NEWCASTLE',\n       'NORWICH', 'NÜRNBERG', 'OSASUNA', 'PADERBORN', 'QPR', 'REAL BETIS',\n       'SCHALKE', 'SHEFFIELD UTD', 'STOKE', 'STUTTGART', 'SWANSEA',\n       'TOTTENHAM', 'UNION BERLIN', 'VALENCIA', 'VALLADOLID',\n       'VILLARREAL', 'W. BREMEN', 'WEST BROM', 'WEST HAM', 'WOLFSBURG',\n       'WOLVES'], dtype=object)"
     },
     "execution_count": 22,
     "metadata": {},
     "output_type": "execute_result"
    }
   ],
   "source": [
    "# Values that are unmatched in our original data\n",
    "df_orig['Home Team'].loc[~df_orig['Home Team'].isin(df_addition.Team)].sort_values().unique()"
   ],
   "metadata": {
    "collapsed": false,
    "pycharm": {
     "name": "#%%\n"
    }
   }
  },
  {
   "cell_type": "markdown",
   "source": [
    "For our mismatched team names, we'll replace the names in our additional dataset to match the formatting of our base dataset."
   ],
   "metadata": {
    "collapsed": false,
    "pycharm": {
     "name": "#%% md\n"
    }
   }
  },
  {
   "cell_type": "code",
   "execution_count": 23,
   "outputs": [],
   "source": [
    "# Dictionary mapping current team name in additional data set to corresponding name in original dataset\n",
    "team_name_key = {\n",
    "    'ATHLETIC BILBAO': 'ATHLETIC',\n",
    "    'BAYER LEVERKUSEN': 'LEVERKUSEN',\n",
    "    'BAYERN MUNICH': 'BAYERN',\n",
    "    'BORUSSIA DORTMUND': 'DORTMUND',\n",
    "    'BORUSSIA MONCHENGLADBACH': \"M'GLADBACH\",\n",
    "    'CA OSASUNA': 'OSASUNA',\n",
    "    'CARDIFF CITY': 'CARDIFF',\n",
    "    'CD LEGANES': 'LEGANÉS',\n",
    "    'CELTA VIGO': 'CELTA',\n",
    "    'DEPORTIVO ALAVES': 'ALAVÉS',\n",
    "    'DEPORTIVO LA CORUNA': 'DEPORTIVO',\n",
    "    'EINTRACHT FRANKFURT': 'FRANKFURT',\n",
    "    'FC AUGSBURG': 'AUGSBURG',\n",
    "    'FC BARCELONA': 'BARCELONA',\n",
    "    'FC INGOLSTADT 04': 'INGOLSTADT',\n",
    "    'FC KOLN': '1. FC KÖLN',\n",
    "    'FC NURNBERG': 'NÜRNBERG',\n",
    "    'FC SCHALKE 04': 'SCHALKE',\n",
    "    'FC UNION BERLIN': 'UNION BERLIN',\n",
    "    'FORTUNA DUSSELDORF': 'DÜSSELDORF',\n",
    "    'FSV MAINZ 05': 'MAINZ',\n",
    "    'GETAFE CF': 'GETAFE',\n",
    "    'GIRONA FC': 'GIRONA',\n",
    "    'GRANADA CF': 'GRANADA',\n",
    "    'HAMBURGER SV': 'HSV',\n",
    "    'HANNOVER 96': 'HANNOVER',\n",
    "    'HERTHA BSC': 'HERTHA',\n",
    "    'HUDDERSFIELD TOWN': 'HUDDERSFIELD',\n",
    "    'LEVANTE UD': 'LEVANTE',\n",
    "    'MALAGA CF': 'MÁLAGA',\n",
    "    'MANCHESTER CITY': 'MAN CITY',\n",
    "    'MANCHESTER UNITED': 'MAN UTD',\n",
    "    'NEWCASTLE UNITED': 'NEWCASTLE',\n",
    "    'NORWICH CITY': 'NORWICH',\n",
    "    'RCD MALLORCA': 'MALLORCA',\n",
    "    'REAL BETIS BALOMPIE': 'REAL BETIS',\n",
    "    'REAL VALLADOLID CF': 'VALLADOLID',\n",
    "    'SC FREIBURG': 'FREIBURG',\n",
    "    'SC PADERBORN 07': 'PADERBORN',\n",
    "    'SD EIBAR': 'EIBAR',\n",
    "    'SD HUESCA': 'HUESCA',\n",
    "    'SHEFFIELD UNITED': 'SHEFFIELD UTD',\n",
    "    'SPORTING GIJON': 'GIJÓN',\n",
    "    'STOKE CITY': 'STOKE',\n",
    "    'SV DARMSTADT 98': 'DARMSTADT',\n",
    "    'SV WERDER BREMEN': 'W. BREMEN',\n",
    "    'SWANSEA CITY': 'SWANSEA',\n",
    "    'TOTTENHAM HOTSPUR': 'TOTTENHAM',\n",
    "    'TSG 1899 HOFFENHEIM': 'HOFFENHEIM',\n",
    "    'UD LAS PALMAS': 'LAS PALMAS',\n",
    "    'VALENCIA CF': 'VALENCIA',\n",
    "    'VFB STUTTGART': 'STUTTGART',\n",
    "    'VFL WOLFSBURG': 'WOLFSBURG',\n",
    "    'VILLARREAL CF': 'VILLARREAL',\n",
    "    'WEST BROMWICH ALBION': 'WEST BROM',\n",
    "    'WEST HAM UNITED': 'WEST HAM',\n",
    "    'WOLVERHAMPTON WANDERERS': 'WOLVES'\n",
    "}"
   ],
   "metadata": {
    "collapsed": false,
    "pycharm": {
     "name": "#%%\n"
    }
   }
  },
  {
   "cell_type": "code",
   "execution_count": 24,
   "outputs": [
    {
     "data": {
      "text/plain": "True"
     },
     "execution_count": 24,
     "metadata": {},
     "output_type": "execute_result"
    }
   ],
   "source": [
    "# Replace all values in additional set with team names as formatted in original set\n",
    "for k, v in team_name_key.items():\n",
    "    df_addition.replace(k, v, inplace=True)\n",
    "\n",
    "# Verify that all rows now have equivalent team names in the original set\n",
    "df_addition.loc[~df_addition.Team.isin(df_orig['Home Team'])].empty"
   ],
   "metadata": {
    "collapsed": false,
    "pycharm": {
     "name": "#%%\n"
    }
   }
  },
  {
   "cell_type": "markdown",
   "source": [
    "With our renaming successful, we've now accounted for each team in our additional dataset to match with its corresponding format in the original dataset."
   ],
   "metadata": {
    "collapsed": false,
    "pycharm": {
     "name": "#%% md\n"
    }
   }
  },
  {
   "cell_type": "markdown",
   "source": [
    "### Merge Preparation and Verification\n",
    "\n",
    "To prepare to verify our two datasets are consistent for merging, we'll add calculated columns containing win data to our original dataset. This will be helpful to check season records against match level data."
   ],
   "metadata": {
    "collapsed": false,
    "pycharm": {
     "name": "#%% md\n"
    }
   }
  },
  {
   "cell_type": "code",
   "execution_count": 25,
   "outputs": [
    {
     "data": {
      "text/plain": "  Score  home_team_win  away_team_win   draw\n0   1-2          False           True  False\n1   2-2          False          False   True\n2   2-2          False          False   True\n3   0-1          False           True  False\n4   0-1          False           True  False",
      "text/html": "<div>\n<style scoped>\n    .dataframe tbody tr th:only-of-type {\n        vertical-align: middle;\n    }\n\n    .dataframe tbody tr th {\n        vertical-align: top;\n    }\n\n    .dataframe thead th {\n        text-align: right;\n    }\n</style>\n<table border=\"1\" class=\"dataframe\">\n  <thead>\n    <tr style=\"text-align: right;\">\n      <th></th>\n      <th>Score</th>\n      <th>home_team_win</th>\n      <th>away_team_win</th>\n      <th>draw</th>\n    </tr>\n  </thead>\n  <tbody>\n    <tr>\n      <th>0</th>\n      <td>1-2</td>\n      <td>False</td>\n      <td>True</td>\n      <td>False</td>\n    </tr>\n    <tr>\n      <th>1</th>\n      <td>2-2</td>\n      <td>False</td>\n      <td>False</td>\n      <td>True</td>\n    </tr>\n    <tr>\n      <th>2</th>\n      <td>2-2</td>\n      <td>False</td>\n      <td>False</td>\n      <td>True</td>\n    </tr>\n    <tr>\n      <th>3</th>\n      <td>0-1</td>\n      <td>False</td>\n      <td>True</td>\n      <td>False</td>\n    </tr>\n    <tr>\n      <th>4</th>\n      <td>0-1</td>\n      <td>False</td>\n      <td>True</td>\n      <td>False</td>\n    </tr>\n  </tbody>\n</table>\n</div>"
     },
     "execution_count": 25,
     "metadata": {},
     "output_type": "execute_result"
    }
   ],
   "source": [
    "# Add booleans for wins, losses, and draws based on the original dataset\n",
    "df_orig['home_team_win'] = df_orig['Home Team Goals Scored'] > df_orig['Away Team Goals Scored']\n",
    "df_orig['away_team_win'] = df_orig['Home Team Goals Scored'] < df_orig['Away Team Goals Scored']\n",
    "df_orig['draw'] = df_orig['Home Team Goals Scored'] == df_orig['Away Team Goals Scored']\n",
    "df_orig[['Score', 'home_team_win', 'away_team_win', 'draw']].head()"
   ],
   "metadata": {
    "collapsed": false,
    "pycharm": {
     "name": "#%%\n"
    }
   }
  },
  {
   "cell_type": "markdown",
   "source": [
    "To ensure we're merging team data on the correct season, we'll use our calculated wins, losses, and draws to assert our data is consistent between the datasets"
   ],
   "metadata": {
    "collapsed": false,
    "pycharm": {
     "name": "#%% md\n"
    }
   }
  },
  {
   "cell_type": "code",
   "execution_count": 26,
   "outputs": [],
   "source": [
    "# Isolate only seasons and teams located in both datasets\n",
    "years = [year for year in df_orig.year.unique() if str(year) in df_addition.Season.apply(lambda x: x.split('/')[0]).unique()]\n",
    "teams = [team for team in df_orig['Home Team'].unique() if team in df_addition.Team.unique()]\n",
    "\n",
    "# Iterate for each datapoint to check that our match win data is consistent between datasets\n",
    "for year in years:\n",
    "    for team in teams:\n",
    "        # Obtain all matches played by a particular team in a particular season\n",
    "        orig_team_df = df_orig.loc[((df_orig['Home Team'] == team) | (df_orig['Away Team'] == team)) & (df_orig.year == year)]\n",
    "\n",
    "        # Determine number of matches played\n",
    "        orig_num_games = len(orig_team_df)\n",
    "\n",
    "        # Go ahead and break this iteration if no data is available for this team in this season\n",
    "        if not orig_num_games:\n",
    "            continue\n",
    "\n",
    "        # Determine number of wins based on match data\n",
    "        orig_num_win = len(orig_team_df.loc[(orig_team_df['Home Team'] == team) & orig_team_df.home_team_win]) + len(orig_team_df.loc[(orig_team_df['Away Team'] == team) & orig_team_df.away_team_win])\n",
    "\n",
    "        # Determine number of losses based on match data\n",
    "        orig_num_loss = len(orig_team_df.loc[(orig_team_df['Home Team'] == team) & orig_team_df.away_team_win]) + len(orig_team_df.loc[(df_orig['Away Team'] == team) & orig_team_df.home_team_win])\n",
    "\n",
    "        # Determine number of draws based on match data\n",
    "        orig_num_draw = len(orig_team_df.loc[df_orig.draw])\n",
    "\n",
    "        # Isolate corresponding row in the additional dataset\n",
    "        additional_row = df_addition.loc[(df_addition.Team == team) & (df_addition.Season.apply(lambda x: x.split('/')[0]) == str(year))].iloc[0]\n",
    "\n",
    "        # Test assertions that our calculations are consistent with the additional data\n",
    "        try:\n",
    "            assert orig_num_games == additional_row.Matches\n",
    "            assert orig_num_win == additional_row.Wins\n",
    "            assert orig_num_loss == additional_row.Losses\n",
    "            assert orig_num_draw == additional_row.Draws\n",
    "        except AssertionError:\n",
    "            print(f'Mismatch for {team} in season {year}')\n"
   ],
   "metadata": {
    "collapsed": false,
    "pycharm": {
     "name": "#%%\n"
    }
   }
  },
  {
   "cell_type": "markdown",
   "source": [
    "Because the exception block does not execute, we've confirmed that these data are consistent and can continue to merge."
   ],
   "metadata": {
    "collapsed": false,
    "pycharm": {
     "name": "#%% md\n"
    }
   }
  },
  {
   "cell_type": "markdown",
   "source": [
    "### Completing the Merge\n",
    "\n",
    "To begin, we'll isolate the variables we'd like to merge with our original data set and reformat the season column."
   ],
   "metadata": {
    "collapsed": false
   }
  },
  {
   "cell_type": "code",
   "execution_count": 27,
   "outputs": [],
   "source": [
    "# Drop the league column and reformat the season column to match original dataset\n",
    "df_addition.drop('League', axis=1, inplace=True)\n",
    "df_addition.Season = df_addition.Season.apply(lambda x: int(x.split('/')[0]))"
   ],
   "metadata": {
    "collapsed": false,
    "pycharm": {
     "name": "#%%\n"
    }
   }
  },
  {
   "cell_type": "markdown",
   "source": [
    "Now, we'll create two copies of the data frame to merge season record data on both home and away teams"
   ],
   "metadata": {
    "collapsed": false,
    "pycharm": {
     "name": "#%% md\n"
    }
   }
  },
  {
   "cell_type": "code",
   "execution_count": 28,
   "outputs": [],
   "source": [
    "# Create two copies of the dataframe to contain columns for Home and Away teams\n",
    "home_season_record = df_addition.copy()\n",
    "away_season_record = df_addition.copy()"
   ],
   "metadata": {
    "collapsed": false,
    "pycharm": {
     "name": "#%%\n"
    }
   }
  },
  {
   "cell_type": "code",
   "execution_count": 29,
   "outputs": [],
   "source": [
    "# Rename the columns of both dataframe copies to be more informative alongside the original data\n",
    "for df, var in [(home_season_record, 'Home'), (away_season_record, 'Away')]:\n",
    "    cols = {\n",
    "        'Season': 'year',\n",
    "        'Position': f'{var} Team Season Position',\n",
    "        'Team': f'{var} Team',\n",
    "        'Matches': f'{var} Team Season Matches Played',\n",
    "        'Wins': f'{var} Team Season Wins',\n",
    "        'Draws': f'{var} Team Season Draws',\n",
    "        'Losses': f'{var} Team Season Losses',\n",
    "        'GoalsScored': f'{var} Team Season Goals Scored',\n",
    "        'GoalsConceded': f'{var} Team Season Goals Conceded',\n",
    "        'GoalDiff': f'{var} Team Season Goal Difference',\n",
    "        'FinalPoints': f'{var} Team Season Final Points'\n",
    "    }\n",
    "    df.rename(columns=cols, inplace=True)"
   ],
   "metadata": {
    "collapsed": false,
    "pycharm": {
     "name": "#%%\n"
    }
   }
  },
  {
   "cell_type": "markdown",
   "source": [
    "Finally, we'll create our merged dataset containing season record data for both teams in each match."
   ],
   "metadata": {
    "collapsed": false,
    "pycharm": {
     "name": "#%% md\n"
    }
   }
  },
  {
   "cell_type": "code",
   "execution_count": 30,
   "outputs": [
    {
     "data": {
      "text/plain": "   Unnamed: 0       Home Team  Away Team Score Half Time Score  \\\n0         380         MAN UTD  TOTTENHAM   1-0             1-0   \n1         579         EVERTON  TOTTENHAM   1-1             1-1   \n2         611         NORWICH  TOTTENHAM   0-3             0-2   \n3         403  LEICESTER CITY  TOTTENHAM   1-1             0-0   \n4         478     BOURNEMOUTH  TOTTENHAM   1-5             1-3   \n\n   Match Excitement  Home Team Rating  Away Team Rating  \\\n0               3.1               6.8               6.4   \n1               5.4               6.7               6.7   \n2               6.4               4.9               7.7   \n3               5.6               6.4               6.4   \n4               6.5               4.6               8.7   \n\n   Home Team Possession %  Away Team Possession %  ...  \\\n0                      50                      50  ...   \n1                      41                      59  ...   \n2                      46                      54  ...   \n3                      35                      65  ...   \n4                      46                      54  ...   \n\n   Home Team Season Final Points  Away Team Season Position  \\\n0                             66                         3    \n1                             47                         3    \n2                             34                         3    \n3                             81                         3    \n4                             42                         3    \n\n   Away Team Season Matches Played  Away Team Season Wins  \\\n0                               38                     19   \n1                               38                     19   \n2                               38                     19   \n3                               38                     19   \n4                               38                     19   \n\n   Away Team Season Draws  Away Team Season Losses  \\\n0                      13                        6   \n1                      13                        6   \n2                      13                        6   \n3                      13                        6   \n4                      13                        6   \n\n   Away Team Season Goals Scored  Away Team Season Goals Conceded  \\\n0                             69                               35   \n1                             69                               35   \n2                             69                               35   \n3                             69                               35   \n4                             69                               35   \n\n   Away Team Season Goal Difference  Away Team Season Final Points  \n0                                34                             70  \n1                                34                             70  \n2                                34                             70  \n3                                34                             70  \n4                                34                             70  \n\n[5 rows x 63 columns]",
      "text/html": "<div>\n<style scoped>\n    .dataframe tbody tr th:only-of-type {\n        vertical-align: middle;\n    }\n\n    .dataframe tbody tr th {\n        vertical-align: top;\n    }\n\n    .dataframe thead th {\n        text-align: right;\n    }\n</style>\n<table border=\"1\" class=\"dataframe\">\n  <thead>\n    <tr style=\"text-align: right;\">\n      <th></th>\n      <th>Unnamed: 0</th>\n      <th>Home Team</th>\n      <th>Away Team</th>\n      <th>Score</th>\n      <th>Half Time Score</th>\n      <th>Match Excitement</th>\n      <th>Home Team Rating</th>\n      <th>Away Team Rating</th>\n      <th>Home Team Possession %</th>\n      <th>Away Team Possession %</th>\n      <th>...</th>\n      <th>Home Team Season Final Points</th>\n      <th>Away Team Season Position</th>\n      <th>Away Team Season Matches Played</th>\n      <th>Away Team Season Wins</th>\n      <th>Away Team Season Draws</th>\n      <th>Away Team Season Losses</th>\n      <th>Away Team Season Goals Scored</th>\n      <th>Away Team Season Goals Conceded</th>\n      <th>Away Team Season Goal Difference</th>\n      <th>Away Team Season Final Points</th>\n    </tr>\n  </thead>\n  <tbody>\n    <tr>\n      <th>0</th>\n      <td>380</td>\n      <td>MAN UTD</td>\n      <td>TOTTENHAM</td>\n      <td>1-0</td>\n      <td>1-0</td>\n      <td>3.1</td>\n      <td>6.8</td>\n      <td>6.4</td>\n      <td>50</td>\n      <td>50</td>\n      <td>...</td>\n      <td>66</td>\n      <td>3</td>\n      <td>38</td>\n      <td>19</td>\n      <td>13</td>\n      <td>6</td>\n      <td>69</td>\n      <td>35</td>\n      <td>34</td>\n      <td>70</td>\n    </tr>\n    <tr>\n      <th>1</th>\n      <td>579</td>\n      <td>EVERTON</td>\n      <td>TOTTENHAM</td>\n      <td>1-1</td>\n      <td>1-1</td>\n      <td>5.4</td>\n      <td>6.7</td>\n      <td>6.7</td>\n      <td>41</td>\n      <td>59</td>\n      <td>...</td>\n      <td>47</td>\n      <td>3</td>\n      <td>38</td>\n      <td>19</td>\n      <td>13</td>\n      <td>6</td>\n      <td>69</td>\n      <td>35</td>\n      <td>34</td>\n      <td>70</td>\n    </tr>\n    <tr>\n      <th>2</th>\n      <td>611</td>\n      <td>NORWICH</td>\n      <td>TOTTENHAM</td>\n      <td>0-3</td>\n      <td>0-2</td>\n      <td>6.4</td>\n      <td>4.9</td>\n      <td>7.7</td>\n      <td>46</td>\n      <td>54</td>\n      <td>...</td>\n      <td>34</td>\n      <td>3</td>\n      <td>38</td>\n      <td>19</td>\n      <td>13</td>\n      <td>6</td>\n      <td>69</td>\n      <td>35</td>\n      <td>34</td>\n      <td>70</td>\n    </tr>\n    <tr>\n      <th>3</th>\n      <td>403</td>\n      <td>LEICESTER CITY</td>\n      <td>TOTTENHAM</td>\n      <td>1-1</td>\n      <td>0-0</td>\n      <td>5.6</td>\n      <td>6.4</td>\n      <td>6.4</td>\n      <td>35</td>\n      <td>65</td>\n      <td>...</td>\n      <td>81</td>\n      <td>3</td>\n      <td>38</td>\n      <td>19</td>\n      <td>13</td>\n      <td>6</td>\n      <td>69</td>\n      <td>35</td>\n      <td>34</td>\n      <td>70</td>\n    </tr>\n    <tr>\n      <th>4</th>\n      <td>478</td>\n      <td>BOURNEMOUTH</td>\n      <td>TOTTENHAM</td>\n      <td>1-5</td>\n      <td>1-3</td>\n      <td>6.5</td>\n      <td>4.6</td>\n      <td>8.7</td>\n      <td>46</td>\n      <td>54</td>\n      <td>...</td>\n      <td>42</td>\n      <td>3</td>\n      <td>38</td>\n      <td>19</td>\n      <td>13</td>\n      <td>6</td>\n      <td>69</td>\n      <td>35</td>\n      <td>34</td>\n      <td>70</td>\n    </tr>\n  </tbody>\n</table>\n<p>5 rows × 63 columns</p>\n</div>"
     },
     "execution_count": 30,
     "metadata": {},
     "output_type": "execute_result"
    }
   ],
   "source": [
    "# Merge data for both Home and Away teams\n",
    "df_merged = df_orig.merge(home_season_record, on=['year', 'Home Team']).merge(away_season_record, on=['year', 'Away Team'])\n",
    "df_merged.head()"
   ],
   "metadata": {
    "collapsed": false,
    "pycharm": {
     "name": "#%%\n"
    }
   }
  },
  {
   "cell_type": "markdown",
   "source": [
    "Now, we've accumulated a single dataframe containing both match data alongside season records for both home and away teams."
   ],
   "metadata": {
    "collapsed": false,
    "pycharm": {
     "name": "#%% md\n"
    }
   }
  },
  {
   "cell_type": "markdown",
   "id": "3063ca2e-ec1b-4799-bc76-4a464fc82921",
   "metadata": {
    "tags": []
   },
   "source": [
    "### Part 5 - Explore Bivariate relationships\n",
    "\n",
    "- Choose a reasoned set of variables to explore further.  You don't have to explore all possible pairs of variables, nor do we want to grade that much.  Choose 7 - 9 variables. One should be a variable that you'd like to predict (target variable) using the others (predictor variables). \n",
    "- List your predictor variables\n",
    "- List your target variable\n",
    "- Briefly describe why you have chosen these. \n",
    "\n",
    "Use any of the available visualizations from Seaborn to explore the relationships between the variables. Explore the relationships among the predictor variables as well as the relationship between each predictor variable and the target variable.  Which of the predictor variables are most strongly related?  Are there any interesting relationships between categorical predictors and numeric predictors?  If there are any dichotomous variables, does that influence any of the relationships? Are the relationships positive or negative? \n",
    "\n",
    "Below each plot, you should provide a description and interpretation of the plot.  Make sure to include why the variables in that plot were chosen and what you hope the reader would gain from it as well. "
   ]
  },
  {
   "cell_type": "markdown",
   "id": "4058bb4e-b6a0-4d4f-b271-cd0ec29951ab",
   "metadata": {
    "pycharm": {
     "name": "#%% md\n"
    }
   },
   "source": [
    "**Relationship 1**: Average difference in possession as a predictor for season ranking\n",
    "\n",
    "> **Predictor variable**: $\\frac{\\sum_{j=1}^k(2P_j-100)}{k}$ where $P_j$ represents a team's possession percentage on $[0,\\ 100]$ percent of the $j$th game of $k$ games in a given season.\n",
    ">\n",
    "> **Target variable**: $1-\\frac{R}{L}$ where $R$ represents a team's season rank out of $L$ total ranked teams in their league.\n",
    ">\n",
    "> **Explanation**: With this relationship, we wish to explore whether a team's tendency to play more offensively or defensively (positive and negative average difference of possession, respectively) influences the team's final position of the league's rankings."
   ]
  },
  {
   "cell_type": "code",
   "execution_count": 132,
   "outputs": [
    {
     "data": {
      "text/plain": "   year   league            team  season_rank   pos_diff  pctile\n0  2015  english         ARSENAL          2.0  16.631579    0.90\n1  2015  english     ASTON VILLA         20.0  -7.263158    0.00\n2  2015  english     BOURNEMOUTH         16.0   2.421053    0.20\n3  2015  english         CHELSEA         10.0  12.315789    0.50\n4  2015  english  CRYSTAL PALACE         15.0  -8.421053    0.25",
      "text/html": "<div>\n<style scoped>\n    .dataframe tbody tr th:only-of-type {\n        vertical-align: middle;\n    }\n\n    .dataframe tbody tr th {\n        vertical-align: top;\n    }\n\n    .dataframe thead th {\n        text-align: right;\n    }\n</style>\n<table border=\"1\" class=\"dataframe\">\n  <thead>\n    <tr style=\"text-align: right;\">\n      <th></th>\n      <th>year</th>\n      <th>league</th>\n      <th>team</th>\n      <th>season_rank</th>\n      <th>pos_diff</th>\n      <th>pctile</th>\n    </tr>\n  </thead>\n  <tbody>\n    <tr>\n      <th>0</th>\n      <td>2015</td>\n      <td>english</td>\n      <td>ARSENAL</td>\n      <td>2.0</td>\n      <td>16.631579</td>\n      <td>0.90</td>\n    </tr>\n    <tr>\n      <th>1</th>\n      <td>2015</td>\n      <td>english</td>\n      <td>ASTON VILLA</td>\n      <td>20.0</td>\n      <td>-7.263158</td>\n      <td>0.00</td>\n    </tr>\n    <tr>\n      <th>2</th>\n      <td>2015</td>\n      <td>english</td>\n      <td>BOURNEMOUTH</td>\n      <td>16.0</td>\n      <td>2.421053</td>\n      <td>0.20</td>\n    </tr>\n    <tr>\n      <th>3</th>\n      <td>2015</td>\n      <td>english</td>\n      <td>CHELSEA</td>\n      <td>10.0</td>\n      <td>12.315789</td>\n      <td>0.50</td>\n    </tr>\n    <tr>\n      <th>4</th>\n      <td>2015</td>\n      <td>english</td>\n      <td>CRYSTAL PALACE</td>\n      <td>15.0</td>\n      <td>-8.421053</td>\n      <td>0.25</td>\n    </tr>\n  </tbody>\n</table>\n</div>"
     },
     "execution_count": 132,
     "metadata": {},
     "output_type": "execute_result"
    }
   ],
   "source": [
    "# Obtain individual team match statistics agnostic of home vs. away\n",
    "df_1 = df_merged[['year', 'league', 'Home Team', 'Home Team Possession %', 'Home Team Season Position']]\n",
    "df_2 = df_merged[['year', 'league', 'Away Team', 'Away Team Possession %', 'Away Team Season Position']]\n",
    "for df, var in [(df_1, 'Home'), (df_2, 'Away')]:\n",
    "    df.rename(\n",
    "        columns={\n",
    "            f'{var} Team': 'team',\n",
    "            f'{var} Team Possession %': 'possession_pct',\n",
    "            f'{var} Team Season Position': 'season_rank'\n",
    "        },\n",
    "        inplace=True\n",
    "    )\n",
    "\n",
    "# Concatenate the team statistics together and calculate difference in ball possession\n",
    "df_comb = pd.concat([df_1, df_2])\n",
    "df_comb.season_rank = df_comb.season_rank.apply(lambda x: int(x))\n",
    "df_comb['pos_diff'] = 2 * df_comb.possession_pct - 100\n",
    "\n",
    "# Group by team and season to obtain average possession differences\n",
    "df_comb = df_comb.drop('possession_pct', axis=1).groupby(['year', 'league', 'team']).mean().reset_index()\n",
    "\n",
    "# Calculate rank percentile\n",
    "max_rank = df_comb[['year', 'league', 'season_rank']].groupby(['year', 'league']).max()\n",
    "df_comb['pctile'] = pd.Series([1 - v.season_rank / max_rank.loc[v.year, v.league].season_rank for _, v in df_comb.iterrows()])\n",
    "\n",
    "df_comb.head()"
   ],
   "metadata": {
    "collapsed": false,
    "pycharm": {
     "name": "#%%\n"
    }
   }
  },
  {
   "cell_type": "code",
   "execution_count": 134,
   "outputs": [
    {
     "data": {
      "text/plain": "<AxesSubplot:xlabel='pos_diff', ylabel='pctile'>"
     },
     "execution_count": 134,
     "metadata": {},
     "output_type": "execute_result"
    },
    {
     "data": {
      "text/plain": "<Figure size 576x396 with 1 Axes>",
      "image/png": "[encoded data removed]"
     },
     "metadata": {},
     "output_type": "display_data"
    }
   ],
   "source": [
    "# Plot average possession difference vs. overall season rank percentile\n",
    "\n",
    "sns.scatterplot(x=df_comb.pos_diff, y=df_comb.pctile)"
   ],
   "metadata": {
    "collapsed": false,
    "pycharm": {
     "name": "#%%\n"
    }
   }
  },
  {
   "cell_type": "markdown",
   "source": [
    "This plot demonstrates the relationship between a team's gameplay style on the x-axis (with negative values being mostly defensive during a season and positive values being mostly offensive during a season), and a team's percentile rank at the end of the season.\n",
    "\n",
    "From the plot, we see a fairly strong positive correlation indicating that teams who control the ball for more gameplay during a season have a better likelihood of performing well in their league. Conversely, teams who play mostly defensively during a season rank poorly among other teams in their league."
   ],
   "metadata": {
    "collapsed": false,
    "pycharm": {
     "name": "#%% md\n"
    }
   }
  }
 ],
 "metadata": {
  "kernelspec": {
   "display_name": "Python 3 (ipykernel)",
   "language": "python",
   "name": "python3"
  },
  "language_info": {
   "codemirror_mode": {
    "name": "ipython",
    "version": 3
   },
   "file_extension": ".py",
   "mimetype": "text/x-python",
   "name": "python",
   "nbconvert_exporter": "python",
   "pygments_lexer": "ipython3",
   "version": "3.9.7"
  }
 },
 "nbformat": 4,
 "nbformat_minor": 5
}